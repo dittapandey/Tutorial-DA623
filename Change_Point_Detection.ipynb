{
  "nbformat": 4,
  "nbformat_minor": 0,
  "metadata": {
    "colab": {
      "provenance": []
    },
    "kernelspec": {
      "name": "python3",
      "display_name": "Python 3"
    },
    "language_info": {
      "name": "python"
    }
  },
  "cells": [
    {
      "cell_type": "code",
      "execution_count": null,
      "metadata": {
        "id": "EmIP13Rb4o-5"
      },
      "outputs": [],
      "source": []
    },
    {
      "cell_type": "markdown",
      "source": [
        "<div class=\"markdown-google-sans\">\n",
        "  <h1>Change Detection in 1 dimensional time series data</h1>\n",
        "</div>\n",
        "\n",
        "<!-- TODO(b/319266067) remove temporary advert after a few weeks. -->\n",
        "<div class=\"markdown-google-sans\">\n",
        "  <h2>Introduction</h2>\n",
        "  <p>Change Detection is the problem of finding abrupt changes in data when a property of the time series changes. Segementation, edge detection, event detection and anomaly detection are similar concepts which are applied as well as change detection.\n",
        "</div>"
      ],
      "metadata": {
        "id": "X6QvukbU4tQ0"
      }
    },
    {
      "cell_type": "markdown",
      "source": [
        "<img src=\"https://www.ncbi.nlm.nih.gov/pmc/articles/PMC5464762/bin/nihms860556f1.jpg\" alt=\"detection image\"/>"
      ],
      "metadata": {
        "id": "Zrd4-6HT6Gnk"
      }
    },
    {
      "cell_type": "markdown",
      "source": [
        "<h2>Definitions and Problem Formulation</h2>\n",
        "\n",
        "<h4>Time Series Data</h4>\n",
        "<p>Inifinte Sequence of elements where each element is a d-dimensional vector arriving at given time stamp</p>\n",
        "\n",
        "<h4>Stationary time series</h4>\n",
        "<p>Finite variance process whose statistical properties remain constant over time. The definition assumes that mean value function is constant and independent of time t and the covariance function between 2 time stamps depends only on their tie difference.</p>\n",
        "\n",
        "<h4>Change Point Detection</h4>\n",
        "<div id=\"S18\" class=\"sec sec-last\"><p></p><p id=\"P21\" class=\"p p-first\">Let {<em>x</em><sub>m</sub>, <em>x</em><sub>m+1</sub>, . . , <em>x<sub>n</sub></em>} be a sequence of time series variables. <em>Change point detection (CPD)</em> can be defined as testing between 2 hypothesis with the null hypothesis H<sub>0</sub>: “No change occurs” and the alternative hypothesis H<em><sub>A</sub></em>: “A change occurs”</p><ol class=\"enumerated\" style=\"list-style-type:decimal\" id=\"L2\"><li><div id=\"P22\">H<sub>0</sub>: ℙ<sub><em>X</em><sub><em>m</em></sub></sub>\n",
        "<em>=</em> ⋯ <em>=</em> ℙ<sub><em>X</em><sub><em>k</em></sub></sub>\n",
        "<em>=</em> ⋯ <em>=</em> ℙ<sub><em>X</em><sub><em>n</em></sub></sub>.</div></li><li><div id=\"P23\">H<em><sub>A</sub></em>: There exists <em>m &lt; k<sup>*</sup> &lt; n</em> such that ℙ<sub><em>X</em><sub><em>m</em></sub></sub>\n",
        "<em>=</em> ⋯ <em>=</em> ℙ<sub><em>X</em><sub><em>k*</em></sub></sub>\n",
        "<em>≠</em> ℙ<sub><em>X</em><sub><em>k*</em>+1</sub></sub>\n",
        "<em>=</em> ⋯ <em>=</em> ℙ<sub><em>X</em><sub><em>n</em></sub></sub>.</div><p id=\"P24\">where ℙ<sub><em>X</em><sub><em>i</em></sub></sub> is the probability density function of the sliding window start at point <em>x<sub>i</sub></em> and <em>k<sup>*</sup></em> is a change point.</p></li></ol></div>\n",
        "\n",
        "\n",
        "\n"
      ],
      "metadata": {
        "id": "DvuDCGM46iyJ"
      }
    },
    {
      "cell_type": "markdown",
      "source": [
        "<h2>Performance Evaluation</h2>\n",
        "Many performance metrics have been introduced to evaluate CPD algos based on type of of decisions they make. The output of CPD algos contain the following:\n",
        "<ul>\n",
        "<li>Change point yes/no decisions i.e. binary classification algorithm</li>\n",
        "<li>Change point identification with varying levels of precision i.e. change point occurs within x time units. multi class classifier or unsupervised learning methoda are used.</li>\n",
        "<li>The time of next change point</li>\n",
        "<ul>\n",
        "\n",
        "\n",
        "The Metrics used are for binary classification:\n",
        "\n",
        "<img src=\"https://www.researchgate.net/publication/368797474/figure/tbl1/AS:11431281122423661@1677329399067/Accuracy-metrics-used-in-this-study-in-which-TP-TN-FP-and-FN-represent-true_W640.jpg\" />\n",
        "\n",
        "<h4>\n",
        "Receiver Operating Characterstics Curve(ROC)</h4>\n",
        "<p>\n",
        "ROC analysis evaluates algorithms by plotting true positive rates against false positive rates on a graph. A good algorithm has points closer to the upper left corner (0,1). A higher AUC means a better algorithm. EER, where false positive and false negative rates are equal, is another measure. Lower EER is better.\n",
        "</p>\n",
        "\n",
        "<h4>\n",
        "Precision Recall Curve</h4>\n",
        "<p>\n",
        "PR curves compare CPD algorithms, just like ROC curves do. Plotting recall against precision, the best results are displayed in the upper right corner. The area under the PR curve calculation aids in algorithm comparison and improves CPD performance, particularly in cases when class distributions are skewed.\n",
        "</p>\n",
        "\n",
        "\n",
        "If difference between detected change point and actual CP represents measure of performance, then above metrics are not appropriate choices.\n",
        "Evaluating the performance of these algos is not as straightforward as for the previous case, as there is no single label against which the performance can be measured.\n",
        "\n",
        "<ul>\n",
        "<li>\n",
        "Mean Absolute error</li>\n",
        "<li>Mean squared error</li>\n",
        "<li>Root mean square error</li>\n",
        "<li>Normalized root mean squared error</li>\n",
        "</ul>\n",
        "\n",
        "\n"
      ],
      "metadata": {
        "id": "vNJs_bjGBnUQ"
      }
    },
    {
      "cell_type": "markdown",
      "source": [
        "<h1>Methods</h1>\n",
        "\n",
        "<h3>Supervised methods</h3>\n",
        "<p>Input data is mapped by supervised learning algorithms to a target attribute, frequently a class label. These techniques employ binary or multi-class classifiers for change point identification. They use a window to navigate through the data as they train to recognise state borders. Although this method makes training simpler, it needs a variety of training data to cover all classes. On the other hand, identifying every class independently discloses the kind and degree of the alteration. For this task, a variety of classifiers can be utilised, including support vector machines, naive Bayes, decision trees, and others.</p>\n",
        "<img src=\"https://www.ncbi.nlm.nih.gov/pmc/articles/PMC5464762/bin/nihms860556f3.jpg\" />\n",
        "\n",
        "<h3>\n",
        "Unsupervised methods</h3>\n",
        "<p>Patterns in unlabeled data can be found using unsupervised learning. In order to identify change points based on statistical attributes, time series data is segmented for change point detection. Because it doesn't require specialised training for various contexts, this strategy is adaptable. For this, a variety of unsupervised techniques are employed. While some rely on probabilistic estimating or subspace modelling, others use likelihood ratios. While graph-based approaches use statistical tests on graph representations of time series, kernel-based methods compare the homogeneity of the data. By comparing state attributes, clustering techniques identify changes in the data by classifying it into states.\n",
        "</p>\n",
        "<img src=\"https://www.ncbi.nlm.nih.gov/pmc/articles/PMC5464762/bin/nihms860556f4.jpg\" />\n",
        "\n",
        "<h3>Likelihood reatio methods</h3>\n",
        "\n",
        "The process of detecting probable change points usually entails analysing the probability distributions that precede and follow a given point. A candidate is identified as a change point if there is a significant difference between these distributions. The logarithm of the likelihood ratio between consecutive intervals in time-series data is used to do this.\n",
        "\n",
        "2 steps: probability density of 2 consecutive intervals is calculated separately. Second, ratio of these probability densities is computed. The most common change point method is the cumulative sum, which tallies deviations from a set target in incoming measurements. It signals a change point when the sum surpasses a set threshold.\n",
        "\n",
        "There is also a method wherein density ratio can be calculted without actually estimating the dennsity for 2 intervals. Tgese methodas model the densoty ratio between two consecutive time intervals <em>χ</em> and <em>χ′</em> by a non parametric gaussian kernel model as follows:\n",
        "\n",
        "![picture](https://drive.google.com/uc?export=view&id=1cb8HT40sAqqx-qIzm_nD0tWBxKxtTL2z)\n",
        "\n",
        "\n",
        "Similarly there are many such methods which are used in detection changing points in 1 dimensional time series data.\n",
        "\n",
        "Such as:\n",
        "1. Probabilistic methods which include Offline Bayesian approaches. Online bayesian approcahes were introduced under the assumption that a sequence of observations may be divided into non overlapping states partitions and data within each state <em>ρ</em> in time series are i.i.d. from some probability distribution of future occurences of values based on past values.\n",
        "\n",
        "\n",
        "\n",
        "\n",
        "\n",
        "\n",
        "\n",
        "\n",
        "\n",
        "\n"
      ],
      "metadata": {
        "id": "8qQSegZ5UsgW"
      }
    },
    {
      "cell_type": "markdown",
      "source": [
        "<h1>Applications</h1>\n",
        "<ul>\n",
        "<li>\n",
        "Medical condition monitoring: Automated, real-time monitoring of patient health requires trend identification in physiological variables, including electrocardiogram (ECG), electroencephalogram (EEG), and heart rate. Studies look at change point identification for particular medical conditions like epilepsy, sleep disorders, MRI interpretation, and comprehension of brain activity.\n",
        "</li>\n",
        "<li>\n",
        "Climate change detection: Because of the potential for climate change and the rise in greenhouse gas concentrations in the atmosphere during the past few decades, change point detection-based techniques for climate study, monitoring, and prediction have gained importance.\n",
        "</li>\n",
        "<li>Speech Recognition: Applied for audio segmentation and recognizing boundaries between silence, sentencesm words and noise.</li>\n",
        "<li>Image Analysis: Detection of abrupt events, such as security breaches, can be formulated as a change point problem. The observation at each time point is in the form a digital encoding of an image.</li>\n",
        "</ul>\n",
        "\n",
        "\n"
      ],
      "metadata": {
        "id": "yOVeozaDuRaS"
      }
    },
    {
      "cell_type": "markdown",
      "source": [
        "Further on from here We observe a very simple example of change detection in time series data."
      ],
      "metadata": {
        "id": "pJLfgdbCzAoL"
      }
    },
    {
      "cell_type": "markdown",
      "source": [
        "<h1>EXAMPLE:</h1>\n"
      ],
      "metadata": {
        "id": "jD-ZvL7jzT3a"
      }
    },
    {
      "cell_type": "markdown",
      "source": [],
      "metadata": {
        "id": "OK-LWnNP00G7"
      }
    },
    {
      "cell_type": "code",
      "source": [
        "%matplotlib inline\n",
        "import math\n",
        "import scipy.stats as stats\n",
        "import numpy as np\n",
        "import matplotlib.pyplot as plt\n",
        "import pandas as pd\n",
        "from collections import deque\n",
        "import copy\n",
        "import random"
      ],
      "metadata": {
        "id": "Q-TkKVy70yi6"
      },
      "execution_count": null,
      "outputs": []
    },
    {
      "cell_type": "code",
      "source": [
        "#utilities\n",
        "def calc_min_interval(x, alpha):\n",
        "    \"\"\"Internal method to determine the minimum interval of\n",
        "    a given width\"\"\"\n",
        "\n",
        "    # Initialize interval\n",
        "    min_int = [None,None]\n",
        "\n",
        "    try:\n",
        "\n",
        "        # Number of elements in trace\n",
        "        n = len(x)\n",
        "\n",
        "        # Start at far left\n",
        "        start, end = 0, int(n*(1-alpha))\n",
        "\n",
        "        # Initialize minimum width to large value\n",
        "        min_width = np.inf\n",
        "\n",
        "        while end < n:\n",
        "\n",
        "            # Endpoints of interval\n",
        "            hi, lo = x[end], x[start]\n",
        "\n",
        "            # Width of interval\n",
        "            width = hi - lo\n",
        "\n",
        "            # Check to see if width is narrower than minimum\n",
        "            if width < min_width:\n",
        "                min_width = width\n",
        "                min_int = [lo, hi]\n",
        "\n",
        "            # Increment endpoints\n",
        "            start +=1\n",
        "            end += 1\n",
        "\n",
        "        return min_int\n",
        "\n",
        "    except IndexError:\n",
        "        print('Too few elements for interval calculation')\n",
        "        return [None,None]\n",
        "\n",
        "\n",
        "def hdi(trace, cred_mass=0.95):\n",
        "    hdi_min, hdi_max = calc_min_interval(np.sort(trace), 1.0-cred_mass)\n",
        "    return hdi_min, hdi_max\n",
        "\n",
        "def between(val, minval, maxval):\n",
        "    return val >= minval and val <= maxval"
      ],
      "metadata": {
        "id": "X9tA71-L0-OG"
      },
      "execution_count": null,
      "outputs": []
    },
    {
      "cell_type": "code",
      "source": [
        "#evaluation metrics:\n",
        "def r_squared_error_loss(target_point, stop_point):\n",
        "    return math.sqrt((target_point - stop_point) ** 2)\n",
        "\n",
        "def root_mean_squared_error_loss(target_points, stop_points):\n",
        "    cumulative_loss = 0.0\n",
        "    for i in range(len(target_points)):\n",
        "        cumulative_loss += (target_points[i] - stop_points[i]) ** 2\n",
        "    return math.sqrt(cumulative_loss / (1.0 * len(target_points)))"
      ],
      "metadata": {
        "id": "uxfmTlUR22Su"
      },
      "execution_count": null,
      "outputs": []
    },
    {
      "cell_type": "code",
      "source": [
        "#performs basic checks for any other detectors\n",
        "\n",
        "class ChangeDetector(object):\n",
        "\n",
        "    def __init__(self):\n",
        "        self.triggered = False\n",
        "        self.changepoint = 0\n",
        "        self.count = 0\n",
        "        self._previous = None\n",
        "\n",
        "    def step(self, datum):\n",
        "        if self._previous is not None:\n",
        "            if self._previous != datum:\n",
        "                self.triggered = True\n",
        "        self._previous = datum\n",
        "        return self.triggered"
      ],
      "metadata": {
        "id": "HIXttCfC2fH8"
      },
      "execution_count": null,
      "outputs": []
    },
    {
      "cell_type": "markdown",
      "source": [
        "Below we have the Windowed key Monte Carlo Detector which functions on the basic principle of assuming certain mathematical paramters for the window it is observing. If the value currently being considered violates those parameters then its flagged as an anamoly or a change point.\n",
        "\n",
        "A key component of the `WindowedMonteCarloDetector` class, the `step` method takes the new data points and finds changes in the time series data. The function first adds a new datum to the window deques {_window1} and {_window2}. {_N} is then increased which shows the total number of data points viewed.\n",
        "\n",
        "The method starts a Monte Carlo simulation when the number of samples is greater than the minimum needed threshold ({_min_samples}). For a parametrized  number of repetitions ({_samples}), elements from both windows are randomly selected in this simulation. The differences between randomly chosen values is calculated.\n",
        "\n",
        "Subsequently, the procedure computes the highest density interval (HDI) of these differences, a metric that estimates the range in which the actual value is situated with a particular degree of confidence (_confidence). If 0 is found within this max hdi and min hdi an anamoly is not triggered.\n",
        "\n",
        "Ultimately, the process yields a boolean flag _triggered, denoting whether the Monte Carlo analysis has identified any changes. The fundamental technique for identifying changes in the time series data across time is this step method."
      ],
      "metadata": {
        "id": "dVIJx4nw7cFb"
      }
    },
    {
      "cell_type": "code",
      "source": [
        "# a windowed monte carlo detector\n",
        "\n",
        "class WindowedMonteCarloDetector(ChangeDetector):\n",
        "\n",
        "    def __init__(self, len1, len2, samples=1000, confidence=0.95, min_samples=50):\n",
        "        self._window1 = deque(maxlen=len1)\n",
        "        self._window2 = deque(maxlen=len2)\n",
        "        self._confidence = confidence\n",
        "        self._min_samples = min_samples\n",
        "        self._samples = samples\n",
        "\n",
        "        self._N = 0\n",
        "        self._triggered = False\n",
        "        self.changepoint = 0\n",
        "\n",
        "\n",
        "    def step(self, datum):\n",
        "        self._window1.append(datum)\n",
        "        self._window2.append(datum)\n",
        "        self._N += 1\n",
        "\n",
        "        if self._N >= self._min_samples:\n",
        "            diffs = np.zeros(self._samples)\n",
        "            for i in range(self._samples):\n",
        "                diffs[i] = random.choice(self._window1) - random.choice(self._window2)\n",
        "\n",
        "            hdi_min, hdi_max = hdi(diffs, self._confidence)\n",
        "            self._triggered = not between(0.0, hdi_min, hdi_max)\n",
        "            if self._triggered:\n",
        "                self.changepoint = self._N\n",
        "\n",
        "        return self._triggered"
      ],
      "metadata": {
        "id": "bnDRJnSx2Jkp"
      },
      "execution_count": null,
      "outputs": []
    },
    {
      "cell_type": "markdown",
      "source": [
        "The data we use is streaming data captured from netflix but it is not enough so we will create data generators to create fake datasets for us with known change points for the purpose of testing our algos against large datastream."
      ],
      "metadata": {
        "id": "0mKY1ZEJ4k_D"
      }
    },
    {
      "cell_type": "code",
      "source": [
        "data = pd.read_csv('calls.csv')\n",
        "vec = data['calls'].values\n",
        "vec = np.nan_to_num(vec)\n",
        "changepoint = data['event'].values.nonzero()[0][0]\n",
        "\n",
        "plt.plot(vec)\n",
        "plt.show()"
      ],
      "metadata": {
        "colab": {
          "base_uri": "https://localhost:8080/",
          "height": 430
        },
        "id": "TiSUpDZ02ZpB",
        "outputId": "1a45bcd6-47e3-4e32-b085-275463505f28"
      },
      "execution_count": null,
      "outputs": [
        {
          "output_type": "display_data",
          "data": {
            "text/plain": [
              "<Figure size 640x480 with 1 Axes>"
            ],
            "image/png": "[encoded data removed]"
          },
          "metadata": {}
        }
      ]
    },
    {
      "cell_type": "code",
      "source": [
        "class Generator(object):\n",
        "\n",
        "    def __init__(self):\n",
        "        self._changepoint = -1\n",
        "\n",
        "    def get(self):\n",
        "        self._changepoint += 1\n",
        "        return 1.0\n",
        "\n",
        "class DataBackedGenerator(Generator):\n",
        "    \"\"\"\n",
        "    A generator which takes a vector of values and behaves similarly\n",
        "    to the other generators here. Returns None if values are requested\n",
        "    past the end of the supplied vector.\n",
        "\n",
        "    vec:         The vector of values for this generator to produce.\n",
        "    changepoint: The index at which the change occurs.\n",
        "    \"\"\"\n",
        "\n",
        "    _idx = 0\n",
        "\n",
        "    def __init__(self, vec, changepoint):\n",
        "        self._vec = vec\n",
        "        self._changepoint = changepoint\n",
        "\n",
        "    def get(self):\n",
        "        if self._idx < len(self._vec):\n",
        "            self._idx += 1\n",
        "            return self._vec[self._idx - 1]"
      ],
      "metadata": {
        "id": "rxG-VM2a4Gvd"
      },
      "execution_count": null,
      "outputs": []
    },
    {
      "cell_type": "markdown",
      "source": [
        "Now we build a simulator to test"
      ],
      "metadata": {
        "id": "I-I1UBAJ5Lv4"
      }
    },
    {
      "cell_type": "code",
      "source": [
        "class Simulator(object):\n",
        "    def __init__(self, generators, detector, limit=1200):\n",
        "        self._generators = generators\n",
        "        self._detector = detector\n",
        "        self._changepoints = []\n",
        "        self._detected_changepoints = []\n",
        "        self._limit = limit\n",
        "\n",
        "        for generator in self._generators:\n",
        "            self._changepoints.append(generator._changepoint)\n",
        "\n",
        "    def plot(self, vals, changepoint, detected_changepoint, title):\n",
        "        plt.plot(vals)\n",
        "        plt.vlines(changepoint, max(vals) * 1.2, 1, color='black')\n",
        "        plt.vlines(detected_changepoint, max(vals), 1, color='red')\n",
        "        plt.title(title)\n",
        "        plt.show()\n",
        "\n",
        "    def run(self, plot=False):\n",
        "        for generator in self._generators:\n",
        "            detector = copy.deepcopy(self._detector)\n",
        "            vals = []\n",
        "\n",
        "            val = generator.get()\n",
        "            changed = detector.step(val)\n",
        "            vals.append(val)\n",
        "\n",
        "            while not changed and len(vals) < self._limit:\n",
        "                val = generator.get()\n",
        "                vals.append(val)\n",
        "                changed = detector.step(val)\n",
        "\n",
        "            if changed:\n",
        "                self._detected_changepoints.append(detector.changepoint)\n",
        "            else:\n",
        "                self._detected_changepoints.append(self._limit)\n",
        "\n",
        "            if plot:\n",
        "                self.plot(vals, generator._changepoint, detector.changepoint, generator.__class__.__name__)\n",
        "        return root_mean_squared_error_loss(self._changepoints, self._detected_changepoints)"
      ],
      "metadata": {
        "id": "RMpM6em55OtX"
      },
      "execution_count": null,
      "outputs": []
    },
    {
      "cell_type": "code",
      "source": [
        "generator = DataBackedGenerator(vec, changepoint)\n",
        "detector = WindowedMonteCarloDetector(100, 10, 1000, 0.25)\n",
        "simulator = Simulator([generator], detector)\n",
        "simulator.run(plot=True)"
      ],
      "metadata": {
        "colab": {
          "base_uri": "https://localhost:8080/",
          "height": 469
        },
        "id": "3KczPF8h5gEH",
        "outputId": "051ea804-d0d2-42e5-f404-3afc1841d1ae"
      },
      "execution_count": null,
      "outputs": [
        {
          "output_type": "display_data",
          "data": {
            "text/plain": [
              "<Figure size 640x480 with 1 Axes>"
            ],
            "image/png": "[encoded data removed]"
          },
          "metadata": {}
        },
        {
          "output_type": "execute_result",
          "data": {
            "text/plain": [
              "57.0"
            ]
          },
          "metadata": {},
          "execution_count": 17
        }
      ]
    }
  ]
}